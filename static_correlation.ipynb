{
 "cells": [
  {
   "cell_type": "code",
   "execution_count": 3,
   "metadata": {
    "collapsed": true
   },
   "outputs": [],
   "source": [
    "import numpy as np\n",
    "import pandas as pd\n",
    "import matplotlib.pyplot as plt\n",
    "%matplotlib inline"
   ]
  },
  {
   "cell_type": "code",
   "execution_count": 4,
   "metadata": {
    "collapsed": true
   },
   "outputs": [],
   "source": [
    "cdf = pd.read_json('rs0.95-T1000_configs.json').T"
   ]
  },
  {
   "cell_type": "code",
   "execution_count": 54,
   "metadata": {
    "collapsed": false
   },
   "outputs": [
    {
     "name": "stdout",
     "output_type": "stream",
     "text": [
      "50\n"
     ]
    }
   ],
   "source": [
    "print len(cdf)"
   ]
  },
  {
   "cell_type": "code",
   "execution_count": 6,
   "metadata": {
    "collapsed": true
   },
   "outputs": [],
   "source": [
    "def distance(posi,posj,box_length):\n",
    "    \"\"\" return the distance between particle i and j according to the minimum image convention. \"\"\"\n",
    "\n",
    "    dist = 0.0\n",
    "    if len(posi) != len(posj):\n",
    "        print(\"Incorrect dimensions!\")\n",
    "        return\n",
    "    ndim = len(posi)\n",
    "    A = np.zeros(ndim)\n",
    "    for i in range(ndim):\n",
    "        d = abs(posi[i]-posj[i])\n",
    "        A[i] = min(d,box_length-d)\n",
    "\n",
    "    dist = np.linalg.norm(A)\n",
    "    return dist"
   ]
  },
  {
   "cell_type": "code",
   "execution_count": 56,
   "metadata": {
    "collapsed": false
   },
   "outputs": [
    {
     "name": "stdout",
     "output_type": "stream",
     "text": [
      "64\n"
     ]
    }
   ],
   "source": [
    "bins = {}\n",
    "for idx,row in cdf.iterrows():\n",
    "    axes = row['axes']\n",
    "    pos  = row['pos']\n",
    "    for i in range(len(pos)):\n",
    "        for j in range(i,len(pos)):\n",
    "            dist = round(distance(pos[i],pos[j],6.1256), 1)\n",
    "            if dist>=6.1256/2:\n",
    "                continue\n",
    "            if dist in bins:\n",
    "                bins[dist]+=1\n",
    "            else:\n",
    "                bins[dist]= 1\n",
    "\n",
    "# end for"
   ]
  },
  {
   "cell_type": "code",
   "execution_count": 45,
   "metadata": {
    "collapsed": false
   },
   "outputs": [
    {
     "data": {
      "image/png": "[encoded data removed]",
      "text/plain": [
       "<matplotlib.figure.Figure at 0x7f21507ce2d0>"
      ]
     },
     "metadata": {},
     "output_type": "display_data"
    }
   ],
   "source": [
    "bins.pop(0,None)\n",
    "factor=1.0/(max(bins.itervalues())-min(bins.itervalues()))\n",
    "normalised_bin = {k: (v-min(bins.itervalues()))*factor for k, v in bins.iteritems()}\n",
    "plt.bar(normalised_bin.keys(), normalised_bin.values(), align='center',color='g',width=0.1)\n",
    "plt.title(\"Plotting g(r)\")\n",
    "plt.xlabel(\"The distance\")\n",
    "plt.ylabel(\"g(r)\")\n",
    "plt.xticks(np.arange(min(normalised_bin.keys()), max(normalised_bin.keys())+1, 0.3))\n",
    "#plt.xticks(range(len(bins)), list(bins.keys()))\n",
    "plt.show()"
   ]
  },
  {
   "cell_type": "code",
   "execution_count": 60,
   "metadata": {
    "collapsed": true
   },
   "outputs": [],
   "source": [
    "from itertools import product\n",
    "#from sklearn.preprocessing import normalize\n",
    "from sklearn.preprocessing import MinMaxScaler"
   ]
  },
  {
   "cell_type": "code",
   "execution_count": 40,
   "metadata": {
    "collapsed": false
   },
   "outputs": [],
   "source": [
    "\n",
    "def legal_kvecs(maxk):\n",
    "    kvecs = []\n",
    "    p=np.arange(0,maxk)\n",
    "    kvecs = [x for x in product(p,repeat=3)]\n",
    "    # calculate a list of legal k vectors\n",
    "    return np.array(kvecs)*2*np.pi/6.1256\n",
    "# end def legal_kvecs\n",
    "\n",
    "def rhok(kvec, pset):\n",
    "    value = 0.0\n",
    "    #computes \\sum_j \\exp(i * k \\dot r_j) \n",
    "    for ptcl in pset:\n",
    "        value=value + np.exp(1j*np.dot(kvec,ptcl))\n",
    "    return value\n",
    "# end def\n",
    "\n",
    "def Sk(kvecs, pset):\n",
    "    \"\"\" computes structure factor for all k vectors in kList\n",
    "     and returns a list of them \"\"\"\n",
    "    sk_list=[]\n",
    "    for kvec in kvecs:\n",
    "        sk_list.append(np.real((1.0/64)*rhok(kvec,pset)*rhok(-1*kvec,pset)).tolist())\n",
    "    \n",
    "    return [i/sum(sk_list) for i in sk_list]\n",
    "# end def Sk"
   ]
  },
  {
   "cell_type": "code",
   "execution_count": 41,
   "metadata": {
    "collapsed": false
   },
   "outputs": [
    {
     "name": "stdout",
     "output_type": "stream",
     "text": [
      "[[ 0.          0.          0.        ]\n",
      " [ 0.          0.          1.02572569]\n",
      " [ 0.          0.          2.05145139]\n",
      " [ 0.          0.          3.07717708]\n",
      " [ 0.          0.          4.10290277]\n",
      " [ 0.          1.02572569  0.        ]\n",
      " [ 0.          1.02572569  1.02572569]\n",
      " [ 0.          1.02572569  2.05145139]\n",
      " [ 0.          1.02572569  3.07717708]\n",
      " [ 0.          1.02572569  4.10290277]\n",
      " [ 0.          2.05145139  0.        ]\n",
      " [ 0.          2.05145139  1.02572569]\n",
      " [ 0.          2.05145139  2.05145139]\n",
      " [ 0.          2.05145139  3.07717708]\n",
      " [ 0.          2.05145139  4.10290277]\n",
      " [ 0.          3.07717708  0.        ]\n",
      " [ 0.          3.07717708  1.02572569]\n",
      " [ 0.          3.07717708  2.05145139]\n",
      " [ 0.          3.07717708  3.07717708]\n",
      " [ 0.          3.07717708  4.10290277]\n",
      " [ 0.          4.10290277  0.        ]\n",
      " [ 0.          4.10290277  1.02572569]\n",
      " [ 0.          4.10290277  2.05145139]\n",
      " [ 0.          4.10290277  3.07717708]\n",
      " [ 0.          4.10290277  4.10290277]\n",
      " [ 1.02572569  0.          0.        ]\n",
      " [ 1.02572569  0.          1.02572569]\n",
      " [ 1.02572569  0.          2.05145139]\n",
      " [ 1.02572569  0.          3.07717708]\n",
      " [ 1.02572569  0.          4.10290277]\n",
      " [ 1.02572569  1.02572569  0.        ]\n",
      " [ 1.02572569  1.02572569  1.02572569]\n",
      " [ 1.02572569  1.02572569  2.05145139]\n",
      " [ 1.02572569  1.02572569  3.07717708]\n",
      " [ 1.02572569  1.02572569  4.10290277]\n",
      " [ 1.02572569  2.05145139  0.        ]\n",
      " [ 1.02572569  2.05145139  1.02572569]\n",
      " [ 1.02572569  2.05145139  2.05145139]\n",
      " [ 1.02572569  2.05145139  3.07717708]\n",
      " [ 1.02572569  2.05145139  4.10290277]\n",
      " [ 1.02572569  3.07717708  0.        ]\n",
      " [ 1.02572569  3.07717708  1.02572569]\n",
      " [ 1.02572569  3.07717708  2.05145139]\n",
      " [ 1.02572569  3.07717708  3.07717708]\n",
      " [ 1.02572569  3.07717708  4.10290277]\n",
      " [ 1.02572569  4.10290277  0.        ]\n",
      " [ 1.02572569  4.10290277  1.02572569]\n",
      " [ 1.02572569  4.10290277  2.05145139]\n",
      " [ 1.02572569  4.10290277  3.07717708]\n",
      " [ 1.02572569  4.10290277  4.10290277]\n",
      " [ 2.05145139  0.          0.        ]\n",
      " [ 2.05145139  0.          1.02572569]\n",
      " [ 2.05145139  0.          2.05145139]\n",
      " [ 2.05145139  0.          3.07717708]\n",
      " [ 2.05145139  0.          4.10290277]\n",
      " [ 2.05145139  1.02572569  0.        ]\n",
      " [ 2.05145139  1.02572569  1.02572569]\n",
      " [ 2.05145139  1.02572569  2.05145139]\n",
      " [ 2.05145139  1.02572569  3.07717708]\n",
      " [ 2.05145139  1.02572569  4.10290277]\n",
      " [ 2.05145139  2.05145139  0.        ]\n",
      " [ 2.05145139  2.05145139  1.02572569]\n",
      " [ 2.05145139  2.05145139  2.05145139]\n",
      " [ 2.05145139  2.05145139  3.07717708]\n",
      " [ 2.05145139  2.05145139  4.10290277]\n",
      " [ 2.05145139  3.07717708  0.        ]\n",
      " [ 2.05145139  3.07717708  1.02572569]\n",
      " [ 2.05145139  3.07717708  2.05145139]\n",
      " [ 2.05145139  3.07717708  3.07717708]\n",
      " [ 2.05145139  3.07717708  4.10290277]\n",
      " [ 2.05145139  4.10290277  0.        ]\n",
      " [ 2.05145139  4.10290277  1.02572569]\n",
      " [ 2.05145139  4.10290277  2.05145139]\n",
      " [ 2.05145139  4.10290277  3.07717708]\n",
      " [ 2.05145139  4.10290277  4.10290277]\n",
      " [ 3.07717708  0.          0.        ]\n",
      " [ 3.07717708  0.          1.02572569]\n",
      " [ 3.07717708  0.          2.05145139]\n",
      " [ 3.07717708  0.          3.07717708]\n",
      " [ 3.07717708  0.          4.10290277]\n",
      " [ 3.07717708  1.02572569  0.        ]\n",
      " [ 3.07717708  1.02572569  1.02572569]\n",
      " [ 3.07717708  1.02572569  2.05145139]\n",
      " [ 3.07717708  1.02572569  3.07717708]\n",
      " [ 3.07717708  1.02572569  4.10290277]\n",
      " [ 3.07717708  2.05145139  0.        ]\n",
      " [ 3.07717708  2.05145139  1.02572569]\n",
      " [ 3.07717708  2.05145139  2.05145139]\n",
      " [ 3.07717708  2.05145139  3.07717708]\n",
      " [ 3.07717708  2.05145139  4.10290277]\n",
      " [ 3.07717708  3.07717708  0.        ]\n",
      " [ 3.07717708  3.07717708  1.02572569]\n",
      " [ 3.07717708  3.07717708  2.05145139]\n",
      " [ 3.07717708  3.07717708  3.07717708]\n",
      " [ 3.07717708  3.07717708  4.10290277]\n",
      " [ 3.07717708  4.10290277  0.        ]\n",
      " [ 3.07717708  4.10290277  1.02572569]\n",
      " [ 3.07717708  4.10290277  2.05145139]\n",
      " [ 3.07717708  4.10290277  3.07717708]\n",
      " [ 3.07717708  4.10290277  4.10290277]\n",
      " [ 4.10290277  0.          0.        ]\n",
      " [ 4.10290277  0.          1.02572569]\n",
      " [ 4.10290277  0.          2.05145139]\n",
      " [ 4.10290277  0.          3.07717708]\n",
      " [ 4.10290277  0.          4.10290277]\n",
      " [ 4.10290277  1.02572569  0.        ]\n",
      " [ 4.10290277  1.02572569  1.02572569]\n",
      " [ 4.10290277  1.02572569  2.05145139]\n",
      " [ 4.10290277  1.02572569  3.07717708]\n",
      " [ 4.10290277  1.02572569  4.10290277]\n",
      " [ 4.10290277  2.05145139  0.        ]\n",
      " [ 4.10290277  2.05145139  1.02572569]\n",
      " [ 4.10290277  2.05145139  2.05145139]\n",
      " [ 4.10290277  2.05145139  3.07717708]\n",
      " [ 4.10290277  2.05145139  4.10290277]\n",
      " [ 4.10290277  3.07717708  0.        ]\n",
      " [ 4.10290277  3.07717708  1.02572569]\n",
      " [ 4.10290277  3.07717708  2.05145139]\n",
      " [ 4.10290277  3.07717708  3.07717708]\n",
      " [ 4.10290277  3.07717708  4.10290277]\n",
      " [ 4.10290277  4.10290277  0.        ]\n",
      " [ 4.10290277  4.10290277  1.02572569]\n",
      " [ 4.10290277  4.10290277  2.05145139]\n",
      " [ 4.10290277  4.10290277  3.07717708]\n",
      " [ 4.10290277  4.10290277  4.10290277]]\n",
      "50\n"
     ]
    }
   ],
   "source": [
    "kvecs=legal_kvecs(5)\n",
    "print kvecs\n",
    "SK_list = []\n",
    "for idx,row in cdf.iterrows():\n",
    "    axes = row['axes']\n",
    "    pos  = row['pos']\n",
    "    SK_list.append(Sk(kvecs,pos))\n",
    "print len(SK_list)"
   ]
  },
  {
   "cell_type": "code",
   "execution_count": 76,
   "metadata": {
    "collapsed": false
   },
   "outputs": [
    {
     "name": "stdout",
     "output_type": "stream",
     "text": [
      "[0.0, 0.0057669937784742709, 0.021697267159844338, 0.09472067304753104, 2.2290513553285174, 0.0057316147849604338, 0.0080168736492849911, 0.030408968436365005, 0.1518953131866817, 1.3274651383121387, 0.021224744554848182, 0.022620404034865923, 0.073013825773728822, 0.9994852694325822, 2.0111492193914984, 0.076916829048697247, 0.13379588119633895, 0.6833611155214856, 1.4543739285941477, 2.279138978526829, 0.92675154903081514, 1.5431507877205906, 2.4295582970639633, 1.946394297101748, 1.0745854496358616, 0.0063646606727873131, 0.010041503125257017, 0.031064154793921401, 0.12387074722964411, 1.2722474631163241, 0.010041468914777151, 0.015719173592126125, 0.03509424800819938, 0.20498652887859656, 1.6198793210613778, 0.022777831707437191, 0.042432702868465434, 0.08765633571146321, 1.7267797732300223, 2.3601005056552973, 0.13072372496882906, 0.2145769280778092, 2.352333655489967, 2.4326675909804196, 1.6553393749299872, 1.5264935832252571, 1.9036119732293966, 3.2837216071290651, 2.0211371616415379, 0.96349695429511761, 0.02233901519761311, 0.022907900042165082, 0.055325416503441166, 0.79157765096648536, 3.6413086743882879, 0.032566372305717552, 0.027933646851923434, 0.1159375125133263, 1.6462360856510654, 3.2232998427165072, 0.085399685848202692, 0.071183052646416584, 0.31648023996166535, 1.5452902787221967, 1.9581643021690509, 0.78522697938594688, 2.0639458016921508, 1.6938306410386423, 2.8235372694952408, 1.6275181547433191, 3.2702527026480745, 3.9923464900858217, 1.7699694773678101, 0.81290929236928067, 0.8821635113166344, 0.075439087477669711, 0.1355130670412972, 0.68494808840713306, 2.8965249061511011, 1.4887965811957227, 0.16114561846753175, 0.19221190419629114, 2.1741487363582492, 2.5192702101626927, 1.5937343556547805, 0.90397097179315322, 1.4519423998801622, 1.5529595428653804, 1.8833715425413289, 1.3394893484394716, 1.8881109218844663, 2.022152421696668, 2.7410369288761616, 1.1351650031925136, 0.84698510711210284, 1.7446290177914032, 1.7202911386668285, 1.1403057855170931, 0.90183500369524505, 1.054062852201876, 2.7159395050373538, 1.559697337059488, 1.9906598331860701, 2.3628463897089484, 1.1769794133214071, 1.0145026807323134, 1.1952394464318321, 2.462799106334562, 1.7183227544444779, 1.0018667362083278, 2.0643403296816016, 1.9244847122417934, 2.0611824202882731, 1.1028789726960633, 0.74760372272630748, 1.825299154739058, 1.6585133435202331, 0.85967366539521184, 0.92660305505397522, 0.94165473843971548, 1.0694165507619118, 0.94758167529714554, 0.91729330893168559, 1.0749594073704571, 1.0]\n"
     ]
    }
   ],
   "source": [
    "Sk = np.array(SK_list)\n",
    "sk_list = np.mean(Sk, axis=0)\n",
    "sk_list[0]=0\n",
    "fact = 1.0/sk_list[len(sk_list)-1]\n",
    "sk_list = [v*fact for v in sk_list]\n",
    "\n",
    "print sk_list"
   ]
  },
  {
   "cell_type": "code",
   "execution_count": 78,
   "metadata": {
    "collapsed": false
   },
   "outputs": [
    {
     "data": {
      "text/plain": [
       "<matplotlib.text.Text at 0x7f214f8eb510>"
      ]
     },
     "execution_count": 78,
     "metadata": {},
     "output_type": "execute_result"
    },
    {
     "data": {
      "image/png": "[encoded data removed]",
      "text/plain": [
       "<matplotlib.figure.Figure at 0x7f214f90e110>"
      ]
     },
     "metadata": {},
     "output_type": "display_data"
    }
   ],
   "source": [
    "kmags  = [np.linalg.norm(kvec) for kvec in kvecs]\n",
    "sk_arr = np.array(sk_list) # convert to numpy array if not already so \n",
    "# print sk_arr\n",
    "# average S(k) if multiple k-vectors have the same magnitude\n",
    "unique_kmags = np.unique(kmags)\n",
    "unique_sk    = np.zeros(len(unique_kmags))\n",
    "for iukmag in range(len(unique_kmags)):\n",
    "    kmag    = unique_kmags[iukmag]\n",
    "    idx2avg = np.where(kmags==kmag)\n",
    "    unique_sk[iukmag] = np.mean(sk_arr[idx2avg])\n",
    "# end for iukmag\n",
    " \n",
    "# visualize\n",
    "plt.plot(unique_kmags,unique_sk)\n",
    "#plt.axis([0,8,0,1])\n",
    "plt.xlabel(\"k values\")\n",
    "plt.ylabel(\"S(k)\")\n",
    "plt.title(\"Plotting S(K)\")"
   ]
  },
  {
   "cell_type": "code",
   "execution_count": null,
   "metadata": {
    "collapsed": true
   },
   "outputs": [],
   "source": []
  }
 ],
 "metadata": {
  "kernelspec": {
   "display_name": "Python 2",
   "language": "python",
   "name": "python2"
  },
  "language_info": {
   "codemirror_mode": {
    "name": "ipython",
    "version": 2
   },
   "file_extension": ".py",
   "mimetype": "text/x-python",
   "name": "python",
   "nbconvert_exporter": "python",
   "pygments_lexer": "ipython2",
   "version": "2.7.6"
  }
 },
 "nbformat": 4,
 "nbformat_minor": 1
}
